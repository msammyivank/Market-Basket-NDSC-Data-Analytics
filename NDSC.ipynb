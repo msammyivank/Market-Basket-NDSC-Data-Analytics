{
 "cells": [
  {
   "cell_type": "markdown",
   "metadata": {},
   "source": [
    "# NDSC Market Basket Challenge 2020\n",
    "By: M Sammy Ivan Kurniawan"
   ]
  },
  {
   "cell_type": "markdown",
   "metadata": {},
   "source": [
    "## 1. Initialization\n",
    "This part will consist of initialization, importing libraries and datasets, and creating grouped as well as dummy datasets for the iterative processes that will be done to surpass the Challenge."
   ]
  },
  {
   "cell_type": "code",
   "execution_count": 1,
   "metadata": {},
   "outputs": [],
   "source": [
    "# Import needed libraries\n",
    "import pandas as pd\n",
    "import numpy as np\n",
    "import re\n",
    "import math\n",
    "from time import sleep\n",
    "from tqdm.notebook import tqdm"
   ]
  },
  {
   "cell_type": "code",
   "execution_count": 2,
   "metadata": {},
   "outputs": [],
   "source": [
    "# Import the datasets\n",
    "orderdf = pd.read_csv(r'D:\\Sammy\\Competitions\\NDSC\\Market Basket\\association_order.csv')\n",
    "rulesdf = pd.read_csv(r'D:\\Sammy\\Competitions\\NDSC\\Market Basket\\rules.csv')"
   ]
  },
  {
   "cell_type": "code",
   "execution_count": 3,
   "metadata": {},
   "outputs": [
    {
     "data": {
      "text/html": [
       "<div>\n",
       "<style scoped>\n",
       "    .dataframe tbody tr th:only-of-type {\n",
       "        vertical-align: middle;\n",
       "    }\n",
       "\n",
       "    .dataframe tbody tr th {\n",
       "        vertical-align: top;\n",
       "    }\n",
       "\n",
       "    .dataframe thead th {\n",
       "        text-align: right;\n",
       "    }\n",
       "</style>\n",
       "<table border=\"1\" class=\"dataframe\">\n",
       "  <thead>\n",
       "    <tr style=\"text-align: right;\">\n",
       "      <th></th>\n",
       "      <th>orderid</th>\n",
       "      <th>itemid</th>\n",
       "    </tr>\n",
       "  </thead>\n",
       "  <tbody>\n",
       "    <tr>\n",
       "      <th>0</th>\n",
       "      <td>31379820545759</td>\n",
       "      <td>719740607</td>\n",
       "    </tr>\n",
       "    <tr>\n",
       "      <th>1</th>\n",
       "      <td>31378575577269</td>\n",
       "      <td>1825360194</td>\n",
       "    </tr>\n",
       "    <tr>\n",
       "      <th>2</th>\n",
       "      <td>31369591568249</td>\n",
       "      <td>1108903291</td>\n",
       "    </tr>\n",
       "    <tr>\n",
       "      <th>3</th>\n",
       "      <td>31369836201769</td>\n",
       "      <td>4507360843</td>\n",
       "    </tr>\n",
       "    <tr>\n",
       "      <th>4</th>\n",
       "      <td>31372360246729</td>\n",
       "      <td>1821888475</td>\n",
       "    </tr>\n",
       "  </tbody>\n",
       "</table>\n",
       "</div>"
      ],
      "text/plain": [
       "          orderid      itemid\n",
       "0  31379820545759   719740607\n",
       "1  31378575577269  1825360194\n",
       "2  31369591568249  1108903291\n",
       "3  31369836201769  4507360843\n",
       "4  31372360246729  1821888475"
      ]
     },
     "execution_count": 3,
     "metadata": {},
     "output_type": "execute_result"
    }
   ],
   "source": [
    "# Get a glimpse of the dataset\n",
    "orderdf.head()"
   ]
  },
  {
   "cell_type": "code",
   "execution_count": 4,
   "metadata": {},
   "outputs": [
    {
     "data": {
      "text/html": [
       "<div>\n",
       "<style scoped>\n",
       "    .dataframe tbody tr th:only-of-type {\n",
       "        vertical-align: middle;\n",
       "    }\n",
       "\n",
       "    .dataframe tbody tr th {\n",
       "        vertical-align: top;\n",
       "    }\n",
       "\n",
       "    .dataframe thead th {\n",
       "        text-align: right;\n",
       "    }\n",
       "</style>\n",
       "<table border=\"1\" class=\"dataframe\">\n",
       "  <thead>\n",
       "    <tr style=\"text-align: right;\">\n",
       "      <th></th>\n",
       "      <th>rule</th>\n",
       "    </tr>\n",
       "  </thead>\n",
       "  <tbody>\n",
       "    <tr>\n",
       "      <th>0</th>\n",
       "      <td>100242812&gt;80361758</td>\n",
       "    </tr>\n",
       "    <tr>\n",
       "      <th>1</th>\n",
       "      <td>100242812&gt;89031406</td>\n",
       "    </tr>\n",
       "    <tr>\n",
       "      <th>2</th>\n",
       "      <td>1003153762&gt;1016449477</td>\n",
       "    </tr>\n",
       "    <tr>\n",
       "      <th>3</th>\n",
       "      <td>1006024995&gt;2727415265</td>\n",
       "    </tr>\n",
       "    <tr>\n",
       "      <th>4</th>\n",
       "      <td>1006024995&gt;866012366</td>\n",
       "    </tr>\n",
       "  </tbody>\n",
       "</table>\n",
       "</div>"
      ],
      "text/plain": [
       "                    rule\n",
       "0     100242812>80361758\n",
       "1     100242812>89031406\n",
       "2  1003153762>1016449477\n",
       "3  1006024995>2727415265\n",
       "4   1006024995>866012366"
      ]
     },
     "execution_count": 4,
     "metadata": {},
     "output_type": "execute_result"
    }
   ],
   "source": [
    "rulesdf.head()"
   ]
  },
  {
   "cell_type": "code",
   "execution_count": 5,
   "metadata": {},
   "outputs": [],
   "source": [
    "# Create a dummy only for the submission\n",
    "submitdf = rulesdf.copy()"
   ]
  },
  {
   "cell_type": "code",
   "execution_count": 6,
   "metadata": {
    "scrolled": true
   },
   "outputs": [
    {
     "data": {
      "text/html": [
       "<div>\n",
       "<style scoped>\n",
       "    .dataframe tbody tr th:only-of-type {\n",
       "        vertical-align: middle;\n",
       "    }\n",
       "\n",
       "    .dataframe tbody tr th {\n",
       "        vertical-align: top;\n",
       "    }\n",
       "\n",
       "    .dataframe thead th {\n",
       "        text-align: right;\n",
       "    }\n",
       "</style>\n",
       "<table border=\"1\" class=\"dataframe\">\n",
       "  <thead>\n",
       "    <tr style=\"text-align: right;\">\n",
       "      <th></th>\n",
       "      <th>itemid</th>\n",
       "    </tr>\n",
       "    <tr>\n",
       "      <th>orderid</th>\n",
       "      <th></th>\n",
       "    </tr>\n",
       "  </thead>\n",
       "  <tbody>\n",
       "    <tr>\n",
       "      <th>31338000509845</th>\n",
       "      <td>[2662778119, 2255381856, 1825056968, 575945551...</td>\n",
       "    </tr>\n",
       "    <tr>\n",
       "      <th>31338001158725</th>\n",
       "      <td>[6112866826, 5013004529, 5712867361]</td>\n",
       "    </tr>\n",
       "    <tr>\n",
       "      <th>31338002167561</th>\n",
       "      <td>[5712106216, 3310344299, 6303964568, 331073883...</td>\n",
       "    </tr>\n",
       "    <tr>\n",
       "      <th>31338004895579</th>\n",
       "      <td>[911192064, 760247001, 5410312558, 1142881028]</td>\n",
       "    </tr>\n",
       "    <tr>\n",
       "      <th>31338005995334</th>\n",
       "      <td>[3700032699, 6900080063, 5305001639]</td>\n",
       "    </tr>\n",
       "    <tr>\n",
       "      <th>...</th>\n",
       "      <td>...</td>\n",
       "    </tr>\n",
       "    <tr>\n",
       "      <th>31384797642506</th>\n",
       "      <td>[1857408808, 2551150454, 1462329331]</td>\n",
       "    </tr>\n",
       "    <tr>\n",
       "      <th>31384797750713</th>\n",
       "      <td>[1149557119, 1427652419, 2147901507]</td>\n",
       "    </tr>\n",
       "    <tr>\n",
       "      <th>31384798826576</th>\n",
       "      <td>[3408618419, 1985704481, 3300302478, 1303266138]</td>\n",
       "    </tr>\n",
       "    <tr>\n",
       "      <th>31384799224120</th>\n",
       "      <td>[4002867093, 6410154560, 3510249471]</td>\n",
       "    </tr>\n",
       "    <tr>\n",
       "      <th>31384799303021</th>\n",
       "      <td>[4900566940, 5303167649, 4300568056, 2761951032]</td>\n",
       "    </tr>\n",
       "  </tbody>\n",
       "</table>\n",
       "<p>92382 rows × 1 columns</p>\n",
       "</div>"
      ],
      "text/plain": [
       "                                                           itemid\n",
       "orderid                                                          \n",
       "31338000509845  [2662778119, 2255381856, 1825056968, 575945551...\n",
       "31338001158725               [6112866826, 5013004529, 5712867361]\n",
       "31338002167561  [5712106216, 3310344299, 6303964568, 331073883...\n",
       "31338004895579     [911192064, 760247001, 5410312558, 1142881028]\n",
       "31338005995334               [3700032699, 6900080063, 5305001639]\n",
       "...                                                           ...\n",
       "31384797642506               [1857408808, 2551150454, 1462329331]\n",
       "31384797750713               [1149557119, 1427652419, 2147901507]\n",
       "31384798826576   [3408618419, 1985704481, 3300302478, 1303266138]\n",
       "31384799224120               [4002867093, 6410154560, 3510249471]\n",
       "31384799303021   [4900566940, 5303167649, 4300568056, 2761951032]\n",
       "\n",
       "[92382 rows x 1 columns]"
      ]
     },
     "execution_count": 6,
     "metadata": {},
     "output_type": "execute_result"
    }
   ],
   "source": [
    "# Group the item id based on the orders\n",
    "groupeditems = orderdf.groupby('orderid')['itemid'].apply(list)\n",
    "groupeddf = pd.DataFrame(groupeditems)\n",
    "groupeddf"
   ]
  },
  {
   "cell_type": "code",
   "execution_count": 7,
   "metadata": {},
   "outputs": [
    {
     "data": {
      "text/html": [
       "<div>\n",
       "<style scoped>\n",
       "    .dataframe tbody tr th:only-of-type {\n",
       "        vertical-align: middle;\n",
       "    }\n",
       "\n",
       "    .dataframe tbody tr th {\n",
       "        vertical-align: top;\n",
       "    }\n",
       "\n",
       "    .dataframe thead th {\n",
       "        text-align: right;\n",
       "    }\n",
       "</style>\n",
       "<table border=\"1\" class=\"dataframe\">\n",
       "  <thead>\n",
       "    <tr style=\"text-align: right;\">\n",
       "      <th></th>\n",
       "      <th>rule</th>\n",
       "      <th>left_split</th>\n",
       "      <th>right_split</th>\n",
       "    </tr>\n",
       "  </thead>\n",
       "  <tbody>\n",
       "    <tr>\n",
       "      <th>0</th>\n",
       "      <td>100242812&gt;80361758</td>\n",
       "      <td>[100242812]</td>\n",
       "      <td>[80361758]</td>\n",
       "    </tr>\n",
       "    <tr>\n",
       "      <th>1</th>\n",
       "      <td>100242812&gt;89031406</td>\n",
       "      <td>[100242812]</td>\n",
       "      <td>[89031406]</td>\n",
       "    </tr>\n",
       "    <tr>\n",
       "      <th>2</th>\n",
       "      <td>1003153762&gt;1016449477</td>\n",
       "      <td>[1003153762]</td>\n",
       "      <td>[1016449477]</td>\n",
       "    </tr>\n",
       "    <tr>\n",
       "      <th>3</th>\n",
       "      <td>1006024995&gt;2727415265</td>\n",
       "      <td>[1006024995]</td>\n",
       "      <td>[2727415265]</td>\n",
       "    </tr>\n",
       "    <tr>\n",
       "      <th>4</th>\n",
       "      <td>1006024995&gt;866012366</td>\n",
       "      <td>[1006024995]</td>\n",
       "      <td>[866012366]</td>\n",
       "    </tr>\n",
       "    <tr>\n",
       "      <th>...</th>\n",
       "      <td>...</td>\n",
       "      <td>...</td>\n",
       "      <td>...</td>\n",
       "    </tr>\n",
       "    <tr>\n",
       "      <th>14233</th>\n",
       "      <td>995073047&gt;3202007524</td>\n",
       "      <td>[995073047]</td>\n",
       "      <td>[3202007524]</td>\n",
       "    </tr>\n",
       "    <tr>\n",
       "      <th>14234</th>\n",
       "      <td>995073047&gt;651958908</td>\n",
       "      <td>[995073047]</td>\n",
       "      <td>[651958908]</td>\n",
       "    </tr>\n",
       "    <tr>\n",
       "      <th>14235</th>\n",
       "      <td>995073047&gt;7902698606</td>\n",
       "      <td>[995073047]</td>\n",
       "      <td>[7902698606]</td>\n",
       "    </tr>\n",
       "    <tr>\n",
       "      <th>14236</th>\n",
       "      <td>995073047&gt;922394800</td>\n",
       "      <td>[995073047]</td>\n",
       "      <td>[922394800]</td>\n",
       "    </tr>\n",
       "    <tr>\n",
       "      <th>14237</th>\n",
       "      <td>995073047&gt;991988255</td>\n",
       "      <td>[995073047]</td>\n",
       "      <td>[991988255]</td>\n",
       "    </tr>\n",
       "  </tbody>\n",
       "</table>\n",
       "<p>14238 rows × 3 columns</p>\n",
       "</div>"
      ],
      "text/plain": [
       "                        rule    left_split   right_split\n",
       "0         100242812>80361758   [100242812]    [80361758]\n",
       "1         100242812>89031406   [100242812]    [89031406]\n",
       "2      1003153762>1016449477  [1003153762]  [1016449477]\n",
       "3      1006024995>2727415265  [1006024995]  [2727415265]\n",
       "4       1006024995>866012366  [1006024995]   [866012366]\n",
       "...                      ...           ...           ...\n",
       "14233   995073047>3202007524   [995073047]  [3202007524]\n",
       "14234    995073047>651958908   [995073047]   [651958908]\n",
       "14235   995073047>7902698606   [995073047]  [7902698606]\n",
       "14236    995073047>922394800   [995073047]   [922394800]\n",
       "14237    995073047>991988255   [995073047]   [991988255]\n",
       "\n",
       "[14238 rows x 3 columns]"
      ]
     },
     "execution_count": 7,
     "metadata": {},
     "output_type": "execute_result"
    }
   ],
   "source": [
    "# Split the rules so it can be understood easier in the algorithm\n",
    "rulesdf['splitted'] = rulesdf['rule'].apply(lambda x : re.split('>', x))\n",
    "rulesdf[['left_split','right_split']] = pd.DataFrame(rulesdf.splitted.tolist(), index= rulesdf.index)\n",
    "rulesdf = rulesdf.drop(columns = 'splitted')\n",
    "rulesdf['left_split'] = rulesdf['left_split'].apply(lambda x : re.split('&', x))\n",
    "rulesdf['right_split'] = rulesdf['right_split'].apply(lambda x : re.split('&', x))\n",
    "rulesdf"
   ]
  },
  {
   "cell_type": "markdown",
   "metadata": {},
   "source": [
    "## 2. Function Construction\n",
    "These are functions that works with the grouped dataframe to acquire the frequency of said number of orders in the grouped dataframe."
   ]
  },
  {
   "cell_type": "code",
   "execution_count": 8,
   "metadata": {},
   "outputs": [],
   "source": [
    "# Specify Functions to get the total number of orders for each product composition\n",
    "def get_total_one_p(df,product_a):\n",
    "    \"\"\" A function to acquire the frequency of a certain product in a product composition\"\"\"\n",
    "    return len(df[df['itemid'].apply(lambda x : product_a in x)])\n",
    "    \n",
    "def get_total_two_p(df,product_a,product_b):\n",
    "    \"\"\" A function to acquire the frequency of a 2 products in a product composition\"\"\"\n",
    "    return len(df[df['itemid'].apply(lambda x : product_a in x and product_b in x)])\n",
    "    \n",
    "def get_total_three_p(df,product_a,product_b,product_c):\n",
    "    \"\"\" A function to acquire the frequency of a 3 products in a product composition\"\"\"\n",
    "    return len(df[df['itemid'].apply(lambda x : product_a in x and product_b in x and product_c in x)])\n",
    "\n",
    "def get_confidence(left_q, all_q):\n",
    "    \"\"\"A function to acquire the confidence using Association Rule Confidence formula\"\"\"\n",
    "    return all_q/left_q"
   ]
  },
  {
   "cell_type": "markdown",
   "metadata": {},
   "source": [
    "## 3. The Main Code\n",
    "This main code will be the main process to iterate over the whole dataset, in order to find the frequency of each products related, and calculate the confidence for said product relationship."
   ]
  },
  {
   "cell_type": "code",
   "execution_count": null,
   "metadata": {
    "scrolled": true
   },
   "outputs": [
    {
     "data": {
      "application/vnd.jupyter.widget-view+json": {
       "model_id": "a19384b54bbd4c3da0d973c4e6c66590",
       "version_major": 2,
       "version_minor": 0
      },
      "text/plain": [
       "HBox(children=(HTML(value='Iteration Process'), FloatProgress(value=0.0, max=14238.0), HTML(value='')))"
      ]
     },
     "metadata": {},
     "output_type": "display_data"
    }
   ],
   "source": [
    "# Main Code to iterate through everything\n",
    "confidence = []\n",
    "progress = 0\n",
    "for i in tqdm(range(0, len(rulesdf)), desc =\"Iteration Process\"):\n",
    "    \n",
    "    A_LIST = rulesdf.loc[i]['left_split']\n",
    "    B_LIST = rulesdf.loc[i]['right_split']\n",
    "    \n",
    "    # A&B > C\n",
    "    if len(rulesdf.loc[i]['left_split']) > 1: \n",
    "        A = int(A_LIST[0])\n",
    "        B = int(A_LIST[1])\n",
    "        C = int(B_LIST[0])\n",
    "        left_q = get_total_two_p(groupeddf, A, B)\n",
    "        all_q = get_total_three_p(groupeddf, A, B, C)\n",
    "    \n",
    "    # A > B&C\n",
    "    elif len(rulesdf.loc[i]['right_split']) > 1: \n",
    "        A = int(A_LIST[0])\n",
    "        B = int(B_LIST[0])\n",
    "        C = int(B_LIST[1])\n",
    "        left_q = get_total_one_p(groupeddf, A)\n",
    "        all_q = get_total_three_p(groupeddf, A, B, C)\n",
    "    \n",
    "    # A > B\n",
    "    else: \n",
    "        A = int(A_LIST[0])\n",
    "        B = int(B_LIST[0])\n",
    "        left_q = get_total_one_p(groupeddf, A)\n",
    "        all_q = get_total_two_p(groupeddf, A, B)\n",
    "    \n",
    "    confidence.append(get_confidence(left_q,all_q))\n",
    "    sleep(0)\n",
    "    \n",
    "submitdf['confidence'] = confidence\n",
    "submitdf['confidence'] = submitdf['confidence'].apply(lambda x : math.floor(x * 1000))\n",
    "submitdf.to_csv(r'D:\\Sammy\\Competitions\\NDSC\\Market Basket\\Iterative_V1.csv',index = False)\n",
    "submitdf"
   ]
  },
  {
   "cell_type": "markdown",
   "metadata": {},
   "source": [
    "It is found that it took around 35 minutes to complete this task."
   ]
  }
 ],
 "metadata": {
  "kernelspec": {
   "display_name": "Python 3",
   "language": "python",
   "name": "python3"
  },
  "language_info": {
   "codemirror_mode": {
    "name": "ipython",
    "version": 3
   },
   "file_extension": ".py",
   "mimetype": "text/x-python",
   "name": "python",
   "nbconvert_exporter": "python",
   "pygments_lexer": "ipython3",
   "version": "3.8.5"
  },
  "toc": {
   "base_numbering": 1,
   "nav_menu": {},
   "number_sections": false,
   "sideBar": true,
   "skip_h1_title": false,
   "title_cell": "Table of Contents",
   "title_sidebar": "Contents",
   "toc_cell": false,
   "toc_position": {},
   "toc_section_display": true,
   "toc_window_display": true
  }
 },
 "nbformat": 4,
 "nbformat_minor": 5
}
